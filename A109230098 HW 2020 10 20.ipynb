{
 "cells": [
  {
   "cell_type": "code",
   "execution_count": 1,
   "metadata": {},
   "outputs": [
    {
     "name": "stdout",
     "output_type": "stream",
     "text": [
      "Learning Python now!\n"
     ]
    }
   ],
   "source": [
    "print('Learning Python now!')"
   ]
  },
  {
   "cell_type": "code",
   "execution_count": 2,
   "metadata": {},
   "outputs": [
    {
     "name": "stdout",
     "output_type": "stream",
     "text": [
      "Python is fun\n"
     ]
    }
   ],
   "source": [
    "print('Python is fun')"
   ]
  },
  {
   "cell_type": "code",
   "execution_count": 3,
   "metadata": {},
   "outputs": [
    {
     "name": "stdout",
     "output_type": "stream",
     "text": [
      "Learning Python now!\n",
      "Python is fun\n"
     ]
    }
   ],
   "source": [
    "print('Learning Python now!')\n",
    "print('Python is fun')"
   ]
  },
  {
   "cell_type": "code",
   "execution_count": 4,
   "metadata": {},
   "outputs": [
    {
     "name": "stdout",
     "output_type": "stream",
     "text": [
      "mile 96 is Kilometer\n",
      "153.60000000000002\n"
     ]
    }
   ],
   "source": [
    "#Convert miles to Kilometers\n",
    "print('mile 96 is Kilometer')\n",
    "print(96*1.6)"
   ]
  },
  {
   "cell_type": "code",
   "execution_count": 5,
   "metadata": {},
   "outputs": [
    {
     "name": "stdout",
     "output_type": "stream",
     "text": [
      "Hello, Python\n",
      "Hello, Python\n",
      "Hello, Python!\n"
     ]
    }
   ],
   "source": [
    "print(\"Hello, Python\")\n",
    "print('Hello, Python')\n",
    "print('Hello, Python!')"
   ]
  },
  {
   "cell_type": "code",
   "execution_count": 6,
   "metadata": {},
   "outputs": [
    {
     "name": "stdout",
     "output_type": "stream",
     "text": [
      "Fahrenheit 212 is Celsius degree\n",
      "85.77777777777779\n"
     ]
    }
   ],
   "source": [
    "#Convert Fahrenheit to Ceisius\n",
    "print('Fahrenheit 212 is Celsius degree')\n",
    "print(5/9*212-32)"
   ]
  },
  {
   "cell_type": "code",
   "execution_count": 7,
   "metadata": {},
   "outputs": [
    {
     "name": "stdout",
     "output_type": "stream",
     "text": [
      "Learning Python now!\n",
      "Python is fun\n",
      "Python is a good programming language\n"
     ]
    }
   ],
   "source": [
    "print('Learning Python now!')\n",
    "print('Python is fun')\n",
    "print('Python is a good programming language')"
   ]
  },
  {
   "cell_type": "code",
   "execution_count": 8,
   "metadata": {},
   "outputs": [
    {
     "name": "stdout",
     "output_type": "stream",
     "text": [
      "Python is fun\n",
      "Learining Python now!\n"
     ]
    }
   ],
   "source": [
    "#我的第一個 Python程式\n",
    "print('Python is fun')\n",
    "print('Learining Python now!')"
   ]
  },
  {
   "cell_type": "code",
   "execution_count": 9,
   "metadata": {},
   "outputs": [
    {
     "name": "stdout",
     "output_type": "stream",
     "text": [
      "12345\n"
     ]
    }
   ],
   "source": [
    "print(12345)"
   ]
  },
  {
   "cell_type": "code",
   "execution_count": 10,
   "metadata": {},
   "outputs": [
    {
     "name": "stdout",
     "output_type": "stream",
     "text": [
      "123.456\n"
     ]
    }
   ],
   "source": [
    "print(123.456)"
   ]
  },
  {
   "cell_type": "code",
   "execution_count": 11,
   "metadata": {},
   "outputs": [
    {
     "name": "stdout",
     "output_type": "stream",
     "text": [
      "Learning Python now!\n"
     ]
    }
   ],
   "source": [
    "print(\"Learning Python now!\")"
   ]
  },
  {
   "cell_type": "code",
   "execution_count": 12,
   "metadata": {},
   "outputs": [
    {
     "name": "stdout",
     "output_type": "stream",
     "text": [
      "Learning Python now!\n"
     ]
    }
   ],
   "source": [
    "print('Learning Python now!')"
   ]
  },
  {
   "cell_type": "code",
   "execution_count": 13,
   "metadata": {},
   "outputs": [
    {
     "name": "stdout",
     "output_type": "stream",
     "text": [
      "Python is fun\n",
      "Let's go\n"
     ]
    }
   ],
   "source": [
    "print('Python is fun')\n",
    "print('Let\\'s go')"
   ]
  },
  {
   "cell_type": "code",
   "execution_count": 14,
   "metadata": {},
   "outputs": [
    {
     "name": "stdout",
     "output_type": "stream",
     "text": [
      "\\n is a skip line\n"
     ]
    }
   ],
   "source": [
    "print('\\\\n is a skip line')"
   ]
  },
  {
   "cell_type": "code",
   "execution_count": 15,
   "metadata": {},
   "outputs": [
    {
     "name": "stdout",
     "output_type": "stream",
     "text": [
      "Learning Python now!\n",
      "Python is fun\n"
     ]
    }
   ],
   "source": [
    "print('Learning Python now!\\nPython is fun')"
   ]
  },
  {
   "cell_type": "code",
   "execution_count": 16,
   "metadata": {},
   "outputs": [
    {
     "name": "stdout",
     "output_type": "stream",
     "text": [
      "|\tHello, word|\n"
     ]
    }
   ],
   "source": [
    "print('|\\tHello, word|')"
   ]
  },
  {
   "cell_type": "code",
   "execution_count": 17,
   "metadata": {},
   "outputs": [
    {
     "name": "stdout",
     "output_type": "stream",
     "text": [
      "|Hello,\tworld|\n"
     ]
    }
   ],
   "source": [
    "print('|Hello,\\tworld|')"
   ]
  },
  {
   "cell_type": "code",
   "execution_count": 18,
   "metadata": {},
   "outputs": [
    {
     "name": "stdout",
     "output_type": "stream",
     "text": [
      "\\n is skip a line\n"
     ]
    }
   ],
   "source": [
    "print('\\\\n is skip a line')"
   ]
  },
  {
   "cell_type": "code",
   "execution_count": 19,
   "metadata": {},
   "outputs": [
    {
     "name": "stdout",
     "output_type": "stream",
     "text": [
      "\"Hello, everyone\"\n"
     ]
    }
   ],
   "source": [
    "print('\\\"Hello, everyone\\\"')"
   ]
  },
  {
   "cell_type": "code",
   "execution_count": 20,
   "metadata": {},
   "outputs": [
    {
     "name": "stdout",
     "output_type": "stream",
     "text": [
      "Radius = 12\n"
     ]
    }
   ],
   "source": [
    "print('Radius =',12)"
   ]
  },
  {
   "cell_type": "code",
   "execution_count": 21,
   "metadata": {},
   "outputs": [
    {
     "name": "stdout",
     "output_type": "stream",
     "text": [
      "Hello,\n",
      "world\n"
     ]
    }
   ],
   "source": [
    "print('Hello,')\n",
    "print('world')"
   ]
  },
  {
   "cell_type": "code",
   "execution_count": 22,
   "metadata": {},
   "outputs": [
    {
     "name": "stdout",
     "output_type": "stream",
     "text": [
      "Hello, world\n"
     ]
    }
   ],
   "source": [
    "print('Hello,',end =' ')\n",
    "print('world')"
   ]
  },
  {
   "cell_type": "code",
   "execution_count": 23,
   "metadata": {},
   "outputs": [
    {
     "name": "stdout",
     "output_type": "stream",
     "text": [
      "Hello, world\n"
     ]
    }
   ],
   "source": [
    "print('Hello,','world')"
   ]
  },
  {
   "cell_type": "code",
   "execution_count": 24,
   "metadata": {},
   "outputs": [
    {
     "name": "stdout",
     "output_type": "stream",
     "text": [
      "Hello,***world\n"
     ]
    }
   ],
   "source": [
    "print('Hello,',end='***')\n",
    "print('world')"
   ]
  },
  {
   "cell_type": "code",
   "execution_count": 25,
   "metadata": {},
   "outputs": [
    {
     "name": "stdout",
     "output_type": "stream",
     "text": [
      "***Hello, world***\n",
      "Hello, Python\n",
      "excellent!!!\n"
     ]
    }
   ],
   "source": [
    "print('***Hello, world',end = '***')\n",
    "print('')\n",
    "print('Hello, Python')\n",
    "print('excellent!!!')"
   ]
  },
  {
   "cell_type": "code",
   "execution_count": 26,
   "metadata": {},
   "outputs": [
    {
     "name": "stdout",
     "output_type": "stream",
     "text": [
      "***Hello, world***\n",
      "Hello, Python\n",
      "excellent!!!\n"
     ]
    }
   ],
   "source": [
    "print('***Hello, world***')\n",
    "print('Hello, Python')\n",
    "print('excellent!!!')"
   ]
  },
  {
   "cell_type": "code",
   "execution_count": 27,
   "metadata": {},
   "outputs": [
    {
     "name": "stdout",
     "output_type": "stream",
     "text": [
      "     100\n"
     ]
    }
   ],
   "source": [
    "print(format(100,'8d'))"
   ]
  },
  {
   "cell_type": "code",
   "execution_count": 28,
   "metadata": {},
   "outputs": [
    {
     "name": "stdout",
     "output_type": "stream",
     "text": [
      "100000\n"
     ]
    }
   ],
   "source": [
    "print(format(100000,'3d'))"
   ]
  },
  {
   "cell_type": "code",
   "execution_count": 29,
   "metadata": {},
   "outputs": [
    {
     "name": "stdout",
     "output_type": "stream",
     "text": [
      "      64\n"
     ]
    }
   ],
   "source": [
    "print(format(100,'8x'))"
   ]
  },
  {
   "cell_type": "code",
   "execution_count": 30,
   "metadata": {},
   "outputs": [
    {
     "name": "stdout",
     "output_type": "stream",
     "text": [
      "     144\n"
     ]
    }
   ],
   "source": [
    "print(format(100,'8o'))"
   ]
  },
  {
   "cell_type": "code",
   "execution_count": 31,
   "metadata": {},
   "outputs": [
    {
     "name": "stdout",
     "output_type": "stream",
     "text": [
      " 1100100\n"
     ]
    }
   ],
   "source": [
    "print(format(100,'8b'))"
   ]
  },
  {
   "cell_type": "code",
   "execution_count": 32,
   "metadata": {},
   "outputs": [
    {
     "name": "stdout",
     "output_type": "stream",
     "text": [
      "23.89%\n"
     ]
    }
   ],
   "source": [
    "print(format(0.2389,'6.2%'))"
   ]
  },
  {
   "cell_type": "code",
   "execution_count": 33,
   "metadata": {},
   "outputs": [
    {
     "name": "stdout",
     "output_type": "stream",
     "text": [
      "  123.46\n"
     ]
    }
   ],
   "source": [
    "print(format(123.456,'8.2f'))"
   ]
  },
  {
   "cell_type": "code",
   "execution_count": 34,
   "metadata": {},
   "outputs": [
    {
     "name": "stdout",
     "output_type": "stream",
     "text": [
      "Python is fun  \n"
     ]
    }
   ],
   "source": [
    "print(format('Python is fun','15s'))"
   ]
  },
  {
   "cell_type": "code",
   "execution_count": 35,
   "metadata": {},
   "outputs": [
    {
     "name": "stdout",
     "output_type": "stream",
     "text": [
      "  Python is fun\n"
     ]
    }
   ],
   "source": [
    "print(format('Python is fun','>15s'))"
   ]
  },
  {
   "cell_type": "code",
   "execution_count": 36,
   "metadata": {},
   "outputs": [
    {
     "name": "stdout",
     "output_type": "stream",
     "text": [
      "     12345\n"
     ]
    }
   ],
   "source": [
    "print(format(12345,'10d'))"
   ]
  },
  {
   "cell_type": "code",
   "execution_count": 37,
   "metadata": {},
   "outputs": [
    {
     "name": "stdout",
     "output_type": "stream",
     "text": [
      "12345     \n"
     ]
    }
   ],
   "source": [
    "print(format(12345,'<10d'))"
   ]
  },
  {
   "cell_type": "code",
   "execution_count": 38,
   "metadata": {},
   "outputs": [
    {
     "name": "stdout",
     "output_type": "stream",
     "text": [
      "   12345   \n"
     ]
    }
   ],
   "source": [
    "print(format(12345,'^11d'))"
   ]
  },
  {
   "cell_type": "code",
   "execution_count": 39,
   "metadata": {},
   "outputs": [
    {
     "name": "stdout",
     "output_type": "stream",
     "text": [
      "12345 12 1234567\n",
      "12 123 1234567\n",
      "123 1234567 12345\n"
     ]
    }
   ],
   "source": [
    "print(12345,12,1234567)\n",
    "print(12,123,1234567)\n",
    "print(123,1234567,12345)"
   ]
  },
  {
   "cell_type": "code",
   "execution_count": 40,
   "metadata": {},
   "outputs": [
    {
     "name": "stdout",
     "output_type": "stream",
     "text": [
      "     12345\n",
      "        12\n",
      "   1234567\n",
      "        12\n",
      "       123\n",
      "   1234567\n",
      "       123\n",
      "   1234567\n",
      "       123\n"
     ]
    }
   ],
   "source": [
    "print(format(12345,'10d'))\n",
    "print(format(12,'10d'))\n",
    "print(format(1234567,'10d'))\n",
    "print(format(12,'10d'))\n",
    "print(format(123,'10d'))\n",
    "print(format(1234567,'10d'))\n",
    "print(format(123,'10d'))\n",
    "print(format(1234567,'10d'))\n",
    "print(format(123,'10d'))"
   ]
  },
  {
   "cell_type": "code",
   "execution_count": 41,
   "metadata": {},
   "outputs": [
    {
     "name": "stdout",
     "output_type": "stream",
     "text": [
      "     12345        12   1234567\n",
      "        12   1234567       123\n",
      "   1234567       123     12345\n"
     ]
    }
   ],
   "source": [
    "print(format(12345,'10d'),end='')\n",
    "print(format(12,'10d'),end='')\n",
    "print(format(1234567,'10d'))\n",
    "print(format(12,'10d'),end='')\n",
    "print(format(1234567,'10d'),end='')\n",
    "print(format(123,'10d'))\n",
    "print(format(1234567,'10d'),end='')\n",
    "print(format(123,'10d'),end='')\n",
    "print(format(12345,'10d'))\n"
   ]
  },
  {
   "cell_type": "code",
   "execution_count": 42,
   "metadata": {},
   "outputs": [
    {
     "name": "stdout",
     "output_type": "stream",
     "text": [
      "     12345         12    1234567\n",
      "        12    1234567        123\n",
      "   1234567        123      12345\n"
     ]
    }
   ],
   "source": [
    "print(format(12345,'10d'),format(12,'10d'),format(1234567,'10d'))\n",
    "print(format(12,'10d'),format(1234567,'10d'),format(123,'10d'))\n",
    "print(format(1234567,'10d'),format(123,'10d'),format(12345,'10d'))"
   ]
  },
  {
   "cell_type": "code",
   "execution_count": 43,
   "metadata": {},
   "outputs": [
    {
     "name": "stdout",
     "output_type": "stream",
     "text": [
      "     12345\n"
     ]
    }
   ],
   "source": [
    "print('%10d'%12345)"
   ]
  },
  {
   "cell_type": "code",
   "execution_count": 44,
   "metadata": {},
   "outputs": [
    {
     "name": "stdout",
     "output_type": "stream",
     "text": [
      "|     12345|\n"
     ]
    }
   ],
   "source": [
    "print('|%10d|'%(12345))"
   ]
  },
  {
   "cell_type": "code",
   "execution_count": 47,
   "metadata": {},
   "outputs": [
    {
     "name": "stdout",
     "output_type": "stream",
     "text": [
      "|12345|\n"
     ]
    }
   ],
   "source": [
    "print('|%3d|'%(12345))"
   ]
  },
  {
   "cell_type": "code",
   "execution_count": 48,
   "metadata": {},
   "outputs": [
    {
     "name": "stdout",
     "output_type": "stream",
     "text": [
      "|12345     |\n"
     ]
    }
   ],
   "source": [
    "print('|%-10d|'%(12345))"
   ]
  },
  {
   "cell_type": "code",
   "execution_count": 49,
   "metadata": {},
   "outputs": [
    {
     "name": "stdout",
     "output_type": "stream",
     "text": [
      "|  123.46|\n",
      "|    1.23|\n",
      "| 1234.56|\n",
      "|   12.35|\n",
      "|12345.60|\n"
     ]
    }
   ],
   "source": [
    "print('|%8.2f|'%(123.456))\n",
    "print('|%8.2f|'%(1.23456))\n",
    "print('|%8.2f|'%(1234.56))\n",
    "print('|%8.2f|'%(12.3456))\n",
    "print('|%8.2f|'%(12345.6))"
   ]
  },
  {
   "cell_type": "code",
   "execution_count": 50,
   "metadata": {},
   "outputs": [
    {
     "name": "stdout",
     "output_type": "stream",
     "text": [
      "|123.46|\n",
      "|1.23|\n",
      "|1234.56|\n",
      "|12345.60|\n"
     ]
    }
   ],
   "source": [
    "print('|%.2f|'%(123.456))\n",
    "print('|%.2f|'%(1.23456))\n",
    "print('|%.2f|'%(1234.56))\n",
    "print('|%.2f|'%(12345.6))"
   ]
  },
  {
   "cell_type": "code",
   "execution_count": 51,
   "metadata": {},
   "outputs": [
    {
     "name": "stdout",
     "output_type": "stream",
     "text": [
      "|          Learning Python now!|\n",
      "|Learning Python now!          |\n",
      "|Learning Python now!|\n"
     ]
    }
   ],
   "source": [
    "print('|%30s|'%('Learning Python now!'))\n",
    "print('|%-30s|'%('Learning Python now!'))\n",
    "print('|%15s|'%('Learning Python now!'))"
   ]
  },
  {
   "cell_type": "code",
   "execution_count": 52,
   "metadata": {},
   "outputs": [
    {
     "name": "stdout",
     "output_type": "stream",
     "text": [
      "width= 5,height= 7,area= 24\n"
     ]
    }
   ],
   "source": [
    "print('width=%2d,height=%2d,area=%3d'%(5,7,24))"
   ]
  },
  {
   "cell_type": "code",
   "execution_count": 53,
   "metadata": {},
   "outputs": [
    {
     "name": "stdout",
     "output_type": "stream",
     "text": [
      "     12345        12   1234567\n",
      "        12        23   1234567\n",
      "       123   1234567       123\n"
     ]
    }
   ],
   "source": [
    "print('%10d%10d%10d'%(12345,12,1234567))\n",
    "print('%10d%10d%10d'%(12,23,1234567))\n",
    "print('%10d%10d%10d'%(123,1234567,123))"
   ]
  },
  {
   "cell_type": "code",
   "execution_count": 54,
   "metadata": {},
   "outputs": [
    {
     "name": "stdout",
     "output_type": "stream",
     "text": [
      "100% orange juice\n"
     ]
    }
   ],
   "source": [
    "print('%d%% orange juice'%(100))"
   ]
  },
  {
   "cell_type": "code",
   "execution_count": 55,
   "metadata": {},
   "outputs": [
    {
     "name": "stdout",
     "output_type": "stream",
     "text": [
      "123\n",
      "123,12345\n",
      "  123,  12345\n",
      "x=  123,y=  12345\n"
     ]
    }
   ],
   "source": [
    "print('{0}'.format(123))\n",
    "print('{0},{1}'.format(123,12345))\n",
    "print('{0:5d},{1:7d}'.format(123,12345))\n",
    "print('x={0:5d},y={1:7d}'.format(123,12345))"
   ]
  },
  {
   "cell_type": "code",
   "execution_count": 56,
   "metadata": {},
   "outputs": [
    {
     "name": "stdout",
     "output_type": "stream",
     "text": [
      "123\n"
     ]
    }
   ],
   "source": [
    "print('{0}'.format(123))"
   ]
  },
  {
   "cell_type": "code",
   "execution_count": 57,
   "metadata": {},
   "outputs": [
    {
     "name": "stdout",
     "output_type": "stream",
     "text": [
      "123,12345\n"
     ]
    }
   ],
   "source": [
    "print('{0},{1}'.format(123,12345))"
   ]
  },
  {
   "cell_type": "code",
   "execution_count": 58,
   "metadata": {},
   "outputs": [
    {
     "name": "stdout",
     "output_type": "stream",
     "text": [
      "  123,  12345\n"
     ]
    }
   ],
   "source": [
    "print('{0:5d},{1:7d}'.format(123,12345))"
   ]
  },
  {
   "cell_type": "code",
   "execution_count": 60,
   "metadata": {},
   "outputs": [
    {
     "name": "stdout",
     "output_type": "stream",
     "text": [
      "x=  123,y=  12345\n"
     ]
    }
   ],
   "source": [
    "print('x={0:5d},y={1:7d}'.format(123,12345))"
   ]
  },
  {
   "cell_type": "code",
   "execution_count": 62,
   "metadata": {},
   "outputs": [
    {
     "name": "stdout",
     "output_type": "stream",
     "text": [
      "|     12345        12   1234567|\n",
      "|        12   1234567       123|\n",
      "|   1234567       123     12345|\n"
     ]
    }
   ],
   "source": [
    "# p 2-20 練習題\n",
    "\n",
    "print('|%10d %9d %9d|'%(12345,12,1234567))\n",
    "print('|%10d %9d %9d|'%(12,1234567,123))\n",
    "print('|%10d %9d %9d|'%(1234567,123,12345))"
   ]
  },
  {
   "cell_type": "code",
   "execution_count": 66,
   "metadata": {},
   "outputs": [
    {
     "name": "stdout",
     "output_type": "stream",
     "text": [
      "Department  \n",
      "of          \n",
      "Computer    \n",
      "Scoence     \n",
      "\n"
     ]
    }
   ],
   "source": [
    "# p 2-20 練習題\n",
    "\n",
    "print(format('Department','12s'))\n",
    "print(format('of','12s'))\n",
    "print(format('Computer','12s'))\n",
    "print(format('Scoence','12s'))\n",
    "print('')"
   ]
  },
  {
   "cell_type": "code",
   "execution_count": 67,
   "metadata": {},
   "outputs": [
    {
     "name": "stdout",
     "output_type": "stream",
     "text": [
      "  Department\n",
      "          of\n",
      "    Computer\n",
      "     Scoence\n",
      "\n"
     ]
    }
   ],
   "source": [
    "# p 2-20 練習題\n",
    "\n",
    "print(format('Department','>12s'))\n",
    "print(format('of','>12s'))\n",
    "print(format('Computer','>12s'))\n",
    "print(format('Scoence','>12s'))\n",
    "print('')"
   ]
  },
  {
   "cell_type": "code",
   "execution_count": 70,
   "metadata": {},
   "outputs": [
    {
     "name": "stdout",
     "output_type": "stream",
     "text": [
      "    123.46\n",
      "  12345.68\n"
     ]
    }
   ],
   "source": [
    "# p 2-20 練習題\n",
    "\n",
    "print(format(123.456,'10.2f'))\n",
    "print(format(12345.678,'10.2f'))"
   ]
  },
  {
   "cell_type": "code",
   "execution_count": 74,
   "metadata": {},
   "outputs": [
    {
     "name": "stdout",
     "output_type": "stream",
     "text": [
      "i=100\n",
      "i=100,j=200\n"
     ]
    }
   ],
   "source": [
    "# p 2-21 練習題\n",
    "\n",
    "print('i=%d'%(100))\n",
    "print('i=%d,j=%d'%(100,200))"
   ]
  },
  {
   "cell_type": "code",
   "execution_count": 75,
   "metadata": {},
   "outputs": [
    {
     "name": "stdout",
     "output_type": "stream",
     "text": [
      "Price:$   356.09\n",
      "    123.46     345.79\n",
      "123.46       100\n",
      "radius = 5,area =   78.54\n",
      "Radius:  5,Area:     78.54\n"
     ]
    }
   ],
   "source": [
    "# p 2-21 練習題\n",
    "\n",
    "print('Price:$ %8.2f'%(356.08977))\n",
    "print('%10.2f %10.2f'%(123.456,345.789))\n",
    "print('%-10.2f %5d'%(123.456,100))\n",
    "print('radius = %d,area = %7.2f'%(5,5*5*3.14159))\n",
    "print('Radius:{a:3d},Area:{b:10.2f}'.format(a=5,b=5*5*3.14159))"
   ]
  },
  {
   "cell_type": "code",
   "execution_count": 77,
   "metadata": {},
   "outputs": [
    {
     "name": "stdout",
     "output_type": "stream",
     "text": [
      "3.25 degree Celsius in Fahrenheit      is 37.85\n",
      "94.50 degree Fahrenheit in Celsius      is 34.72\n"
     ]
    }
   ],
   "source": [
    "# p 2-21 練習題\n",
    "\n",
    "print('%.2f degree Celsius in Fahrenheit\\\n",
    "      is %.2f'%(3.25,3.25*1.8+32))\n",
    "print('%.2f degree Fahrenheit in Celsius\\\n",
    "      is %.2f'%(94.5,(94.5-32)/1.8))"
   ]
  },
  {
   "cell_type": "code",
   "execution_count": 79,
   "metadata": {},
   "outputs": [
    {
     "name": "stdout",
     "output_type": "stream",
     "text": [
      "Month           Amount    \n",
      "1               43400.2   \n",
      "2               45430.28  \n",
      "3               48030.48  \n",
      "4               51112.96  \n",
      "5               52857.2   \n"
     ]
    }
   ],
   "source": [
    "# p 2-21 練習題\n",
    "\n",
    "print('%-15s %-10s'%('Month','Amount'))\n",
    "print('%-15s %-10s'%(1,43400.2))\n",
    "print('%-15s %-10s'%(2,45430.28))\n",
    "print('%-15s %-10s'%(3,48030.48))\n",
    "print('%-15s %-10s'%(4,51112.96))\n",
    "print('%-15s %-10s'%(5,52857.2))"
   ]
  },
  {
   "cell_type": "code",
   "execution_count": 92,
   "metadata": {},
   "outputs": [
    {
     "name": "stdout",
     "output_type": "stream",
     "text": [
      "|     12345        12   1234567|\n",
      "Radius:  5,Area:     78.54\n",
      "    123.46\n",
      "1               43400.20  \n",
      "x=  123,y=  12345\n"
     ]
    }
   ],
   "source": [
    "# p 2-22 練習題\n",
    "\n",
    "print('|%10d %9d %9d|'%(12345,12,1234567))\n",
    "print('Radius:{a:3d},Area:{b:10.2f}'.format(a=5,b=5*5*3.14159))\n",
    "print(format(123.456,'10.2f'))\n",
    "print('%-15d %-10.2f'%(1,43400.2))\n",
    "print('x={0:5d},y={1:7d}'.format(123,12345))"
   ]
  },
  {
   "cell_type": "code",
   "execution_count": 97,
   "metadata": {},
   "outputs": [
    {
     "name": "stdout",
     "output_type": "stream",
     "text": [
      "Member Karen  , discount 0.35\n",
      "Member Sammy  , discount 0.40\n",
      "Member JoJo   , discount 0.42\n"
     ]
    }
   ],
   "source": [
    "# 2-24\n",
    "\n",
    "print('Member {0:7s}, discount {1:3.2f}'.format('Karen',0.35))\n",
    "print('Member {0:7s}, discount {1:3.2f}'.format('Sammy',0.4))\n",
    "print('Member {0:7s}, discount {1:3.2f}'.format('JoJo',0.42))"
   ]
  },
  {
   "cell_type": "code",
   "execution_count": 98,
   "metadata": {},
   "outputs": [
    {
     "name": "stdout",
     "output_type": "stream",
     "text": [
      "                tall short               \n",
      "              strong weak                \n",
      "               thick thin                \n"
     ]
    }
   ],
   "source": [
    "# 2-24\n",
    "\n",
    "print('%20s %-20s'%('tall','short'))\n",
    "print('%20s %-20s'%('strong','weak'))\n",
    "print('%20s %-20s'%('thick','thin'))"
   ]
  },
  {
   "cell_type": "code",
   "execution_count": 99,
   "metadata": {},
   "outputs": [
    {
     "name": "stdout",
     "output_type": "stream",
     "text": [
      "\n"
     ]
    }
   ],
   "source": [
    "# 2-24\n",
    "print()"
   ]
  },
  {
   "cell_type": "code",
   "execution_count": 100,
   "metadata": {},
   "outputs": [
    {
     "name": "stdout",
     "output_type": "stream",
     "text": [
      "   Apple's Producrs: iPhone              \n",
      "                     iMac                \n",
      "                     Apple Watch         \n",
      "                     ...                 \n"
     ]
    }
   ],
   "source": [
    "#2-24\n",
    "print('%20s %-20s'%('Apple\\'s Producrs:','iPhone'))\n",
    "print('%20s %-20s'%('','iMac'))\n",
    "print('%20s %-20s'%('','Apple Watch'))\n",
    "print('%20s %-20s'%('','...'))"
   ]
  },
  {
   "cell_type": "code",
   "execution_count": 101,
   "metadata": {},
   "outputs": [
    {
     "name": "stdout",
     "output_type": "stream",
     "text": [
      "City            Celsius\n",
      "Taipei            33.20\n",
      "Yilan             32.93\n",
      "MiaoLi            32.29\n",
      "Taichung          32.48\n",
      "HuaLian           33.87\n"
     ]
    }
   ],
   "source": [
    "#2-24\n",
    "print('%-15s %7s'%('City','Celsius'))\n",
    "print('%-15s %7.2f'%('Taipei',33.2))\n",
    "print('%-15s %7.2f'%('Yilan',32.93))\n",
    "print('%-15s %7.2f'%('MiaoLi',32.29))\n",
    "print('%-15s %7.2f'%('Taichung',32.48))\n",
    "print('%-15s %7.2f'%('HuaLian',33.87))"
   ]
  },
  {
   "cell_type": "code",
   "execution_count": 105,
   "metadata": {},
   "outputs": [
    {
     "name": "stdout",
     "output_type": "stream",
     "text": [
      "|    22    44    66    88|\n",
      "|    33     55     77     99|\n",
      "|   222   444   666   888|\n",
      "|333   555   777   999   |\n"
     ]
    }
   ],
   "source": [
    "#2-25\n",
    "print('|%6d%6d%6d%6d|'%(22,44,66,88))\n",
    "print('|%6d %6d %6d %6d|'%(33,55,77,99))\n",
    "print('|%6d%6d%6d%6d|'%(222,444,666,888))\n",
    "print('|%-6d%-6d%-6d%-6d|'%(333,555,777,999))"
   ]
  },
  {
   "cell_type": "code",
   "execution_count": 121,
   "metadata": {},
   "outputs": [
    {
     "name": "stdout",
     "output_type": "stream",
     "text": [
      "---------\n",
      "Learning Python now***\n",
      "Python is fun$$$\n",
      "---------"
     ]
    }
   ],
   "source": [
    "#2-25\n",
    "for i in range(9):\n",
    "    print('-',end='')\n",
    "    if i==8:\n",
    "        print('')\n",
    "\n",
    "print('Learning Python now***')\n",
    "print('Python is fun$$$')\n",
    "for i in range(9):\n",
    "    print('-',end='')"
   ]
  },
  {
   "cell_type": "code",
   "execution_count": 111,
   "metadata": {},
   "outputs": [
    {
     "name": "stdout",
     "output_type": "stream",
     "text": [
      "21.0\n"
     ]
    }
   ],
   "source": [
    "#3-6\n",
    "a=7+8*2-6+8/2\n",
    "print(a)"
   ]
  },
  {
   "cell_type": "code",
   "execution_count": 112,
   "metadata": {},
   "outputs": [
    {
     "name": "stdout",
     "output_type": "stream",
     "text": [
      "23.0\n"
     ]
    }
   ],
   "source": [
    "#3-6\n",
    "b=(7+8)*2-(6+8)/2\n",
    "print(b)"
   ]
  },
  {
   "cell_type": "code",
   "execution_count": 114,
   "metadata": {},
   "outputs": [
    {
     "name": "stdout",
     "output_type": "stream",
     "text": [
      "Learning Pythonis fun\n"
     ]
    }
   ],
   "source": [
    "#3-6\n",
    "str1='Learning Python'+'is fun'\n",
    "print(str1)"
   ]
  },
  {
   "cell_type": "code",
   "execution_count": 119,
   "metadata": {},
   "outputs": [
    {
     "name": "stdout",
     "output_type": "stream",
     "text": [
      "Learning Python is fun\n"
     ]
    }
   ],
   "source": [
    "#3-6\n",
    "str2='Learning Python '+\\\n",
    "'is fun'\n",
    "print(str2)"
   ]
  },
  {
   "cell_type": "code",
   "execution_count": 123,
   "metadata": {},
   "outputs": [
    {
     "name": "stdout",
     "output_type": "stream",
     "text": [
      "Is your birthday in set1?\n",
      "1 3 5 7\n",
      "9 11 13 15\n",
      "17 19 21 23\n",
      "25 27 29 31\n",
      "\n",
      "Enter 1 for Yes and 0 for No:\n"
     ]
    }
   ],
   "source": [
    "#3-7\n",
    "question1='Is your birthday in set1?\\n'+\\\n",
    "'1 3 5 7\\n'+\\\n",
    "'9 11 13 15\\n'+\\\n",
    "'17 19 21 23\\n'+\\\n",
    "'25 27 29 31\\n'+\\\n",
    "'\\nEnter 1 for Yes and 0 for No:'\n",
    "print(question1)"
   ]
  },
  {
   "cell_type": "code",
   "execution_count": 125,
   "metadata": {},
   "outputs": [
    {
     "name": "stdout",
     "output_type": "stream",
     "text": [
      "Hello, world\n",
      "Hello, world\n",
      "Hello, world\n"
     ]
    }
   ],
   "source": [
    "#3-8\n",
    "print('Hello, world')\n",
    "print('Hello,',end=' ')\n",
    "print('world')\n",
    "s='Hello, '+\\\n",
    "'world'\n",
    "print(s)\n"
   ]
  },
  {
   "cell_type": "code",
   "execution_count": 127,
   "metadata": {},
   "outputs": [
    {
     "data": {
      "text/plain": [
       "2.6666666666666665"
      ]
     },
     "execution_count": 127,
     "metadata": {},
     "output_type": "execute_result"
    }
   ],
   "source": [
    "#3-9\n",
    "8/3\n"
   ]
  },
  {
   "cell_type": "code",
   "execution_count": 128,
   "metadata": {},
   "outputs": [
    {
     "data": {
      "text/plain": [
       "64"
      ]
     },
     "execution_count": 128,
     "metadata": {},
     "output_type": "execute_result"
    }
   ],
   "source": [
    "#3-9\n",
    "8**2\n"
   ]
  },
  {
   "cell_type": "code",
   "execution_count": 129,
   "metadata": {},
   "outputs": [
    {
     "data": {
      "text/plain": [
       "10.0"
      ]
     },
     "execution_count": 129,
     "metadata": {},
     "output_type": "execute_result"
    }
   ],
   "source": [
    "#3-9\n",
    "100**0.5\n"
   ]
  },
  {
   "cell_type": "code",
   "execution_count": 130,
   "metadata": {},
   "outputs": [
    {
     "data": {
      "text/plain": [
       "2"
      ]
     },
     "execution_count": 130,
     "metadata": {},
     "output_type": "execute_result"
    }
   ],
   "source": [
    "#3-9\n",
    "8%3\n"
   ]
  },
  {
   "cell_type": "code",
   "execution_count": 132,
   "metadata": {},
   "outputs": [
    {
     "name": "stdout",
     "output_type": "stream",
     "text": [
      "100 100 100\n"
     ]
    }
   ],
   "source": [
    "#3-9\n",
    "i=100\n",
    "j=100\n",
    "k=100\n",
    "print(i,j,k)"
   ]
  },
  {
   "cell_type": "code",
   "execution_count": 133,
   "metadata": {},
   "outputs": [
    {
     "name": "stdout",
     "output_type": "stream",
     "text": [
      "200 200 200\n"
     ]
    }
   ],
   "source": [
    "#3-9\n",
    "i=j=k=200\n",
    "print(i,j,k)"
   ]
  },
  {
   "cell_type": "code",
   "execution_count": 134,
   "metadata": {},
   "outputs": [
    {
     "name": "stdout",
     "output_type": "stream",
     "text": [
      "100 200\n"
     ]
    }
   ],
   "source": [
    "#3-9\n",
    "a,b=100,200\n",
    "print(a,b)"
   ]
  },
  {
   "cell_type": "code",
   "execution_count": 135,
   "metadata": {},
   "outputs": [
    {
     "name": "stdout",
     "output_type": "stream",
     "text": [
      "100 100\n"
     ]
    }
   ],
   "source": [
    "#3-10\n",
    "a=100\n",
    "b=100\n",
    "a=b\n",
    "b=a\n",
    "print(a,b)\n"
   ]
  },
  {
   "cell_type": "code",
   "execution_count": 136,
   "metadata": {},
   "outputs": [
    {
     "name": "stdout",
     "output_type": "stream",
     "text": [
      "200 100\n"
     ]
    }
   ],
   "source": [
    "#3-10\n",
    "a=100\n",
    "b=200\n",
    "temp=a\n",
    "a=b\n",
    "b=temp\n",
    "print(a,b)"
   ]
  },
  {
   "cell_type": "code",
   "execution_count": 137,
   "metadata": {},
   "outputs": [
    {
     "name": "stdout",
     "output_type": "stream",
     "text": [
      "200 100\n"
     ]
    }
   ],
   "source": [
    "#3-11\n",
    "a=100\n",
    "b=200\n",
    "a,b=b,a\n",
    "print(a,b)"
   ]
  },
  {
   "cell_type": "code",
   "execution_count": 138,
   "metadata": {},
   "outputs": [
    {
     "name": "stdout",
     "output_type": "stream",
     "text": [
      "12\n"
     ]
    }
   ],
   "source": [
    "#3-12\n",
    "a=10\n",
    "a+=2\n",
    "print(a)"
   ]
  },
  {
   "cell_type": "code",
   "execution_count": 139,
   "metadata": {},
   "outputs": [
    {
     "name": "stdout",
     "output_type": "stream",
     "text": [
      "60\n"
     ]
    }
   ],
   "source": [
    "#3-12\n",
    "a*=5\n",
    "print(a)"
   ]
  },
  {
   "cell_type": "code",
   "execution_count": 140,
   "metadata": {},
   "outputs": [
    {
     "name": "stdout",
     "output_type": "stream",
     "text": [
      "20\n"
     ]
    }
   ],
   "source": [
    "#3-12\n",
    "a//=3\n",
    "print(a)"
   ]
  },
  {
   "cell_type": "code",
   "execution_count": 141,
   "metadata": {},
   "outputs": [
    {
     "name": "stdout",
     "output_type": "stream",
     "text": [
      "2\n"
     ]
    }
   ],
   "source": [
    "#3-12\n",
    "a%=6\n",
    "print(a)"
   ]
  },
  {
   "cell_type": "code",
   "execution_count": 148,
   "metadata": {},
   "outputs": [
    {
     "name": "stdout",
     "output_type": "stream",
     "text": [
      "3\n"
     ]
    }
   ],
   "source": [
    "#3-12\n",
    "k=eval(input())"
   ]
  },
  {
   "cell_type": "code",
   "execution_count": 146,
   "metadata": {},
   "outputs": [
    {
     "data": {
      "text/plain": [
       "3"
      ]
     },
     "execution_count": 146,
     "metadata": {},
     "output_type": "execute_result"
    }
   ],
   "source": [
    "#3-12\n",
    "k"
   ]
  },
  {
   "cell_type": "code",
   "execution_count": 147,
   "metadata": {},
   "outputs": [
    {
     "name": "stdout",
     "output_type": "stream",
     "text": [
      "3\n"
     ]
    }
   ],
   "source": [
    "#3-12\n",
    "print(k)"
   ]
  },
  {
   "cell_type": "code",
   "execution_count": 149,
   "metadata": {},
   "outputs": [
    {
     "name": "stdout",
     "output_type": "stream",
     "text": [
      "Please enter an integer:45\n"
     ]
    }
   ],
   "source": [
    "#3-13\n",
    "s=eval(input('Please enter an integer:'))"
   ]
  },
  {
   "cell_type": "code",
   "execution_count": 150,
   "metadata": {},
   "outputs": [
    {
     "data": {
      "text/plain": [
       "45"
      ]
     },
     "execution_count": 150,
     "metadata": {},
     "output_type": "execute_result"
    }
   ],
   "source": [
    "#3-13\n",
    "s\n"
   ]
  },
  {
   "cell_type": "code",
   "execution_count": 151,
   "metadata": {},
   "outputs": [
    {
     "name": "stdout",
     "output_type": "stream",
     "text": [
      "Please enter a string:Hello, world\n"
     ]
    }
   ],
   "source": [
    "#3-13\n",
    "s2=input('Please enter a string:')"
   ]
  },
  {
   "cell_type": "code",
   "execution_count": 152,
   "metadata": {},
   "outputs": [
    {
     "data": {
      "text/plain": [
       "'Hello, world'"
      ]
     },
     "execution_count": 152,
     "metadata": {},
     "output_type": "execute_result"
    }
   ],
   "source": [
    "s2"
   ]
  },
  {
   "cell_type": "code",
   "execution_count": 153,
   "metadata": {},
   "outputs": [
    {
     "name": "stdout",
     "output_type": "stream",
     "text": [
      "Hello, world\n"
     ]
    }
   ],
   "source": [
    "print(s2)"
   ]
  },
  {
   "cell_type": "code",
   "execution_count": 154,
   "metadata": {},
   "outputs": [
    {
     "name": "stdout",
     "output_type": "stream",
     "text": [
      "Please enter an integer:88\n"
     ]
    }
   ],
   "source": [
    "#3-13\n",
    "str2=input('Please enter an integer:')"
   ]
  },
  {
   "cell_type": "code",
   "execution_count": 155,
   "metadata": {},
   "outputs": [
    {
     "name": "stdout",
     "output_type": "stream",
     "text": [
      "88\n"
     ]
    }
   ],
   "source": [
    "print(str2)"
   ]
  },
  {
   "cell_type": "code",
   "execution_count": 156,
   "metadata": {},
   "outputs": [
    {
     "data": {
      "text/plain": [
       "'88'"
      ]
     },
     "execution_count": 156,
     "metadata": {},
     "output_type": "execute_result"
    }
   ],
   "source": [
    "str2"
   ]
  },
  {
   "cell_type": "code",
   "execution_count": 157,
   "metadata": {},
   "outputs": [
    {
     "name": "stdout",
     "output_type": "stream",
     "text": [
      "Please enter an integer:88\n"
     ]
    }
   ],
   "source": [
    "#3-14\n",
    "str2=eval(input('Please enter an integer:'))"
   ]
  },
  {
   "cell_type": "code",
   "execution_count": 158,
   "metadata": {},
   "outputs": [
    {
     "name": "stdout",
     "output_type": "stream",
     "text": [
      "168\n"
     ]
    }
   ],
   "source": [
    "num=str2+80\n",
    "print(num)"
   ]
  },
  {
   "cell_type": "code",
   "execution_count": 160,
   "metadata": {},
   "outputs": [
    {
     "name": "stdout",
     "output_type": "stream",
     "text": [
      "Please enter number1:100\n"
     ]
    }
   ],
   "source": [
    "#3-15\n",
    "num1=eval(input('Please enter number1:'))"
   ]
  },
  {
   "cell_type": "code",
   "execution_count": 161,
   "metadata": {},
   "outputs": [
    {
     "name": "stdout",
     "output_type": "stream",
     "text": [
      "Please enter number2:200\n"
     ]
    }
   ],
   "source": [
    "num2=eval(input('Please enter number2:'))"
   ]
  },
  {
   "cell_type": "code",
   "execution_count": 162,
   "metadata": {},
   "outputs": [
    {
     "name": "stdout",
     "output_type": "stream",
     "text": [
      "300\n"
     ]
    }
   ],
   "source": [
    "print(num1+num2)"
   ]
  },
  {
   "cell_type": "code",
   "execution_count": 163,
   "metadata": {},
   "outputs": [
    {
     "name": "stdout",
     "output_type": "stream",
     "text": [
      "Enter two numbers seperated by comma:100,200\n"
     ]
    }
   ],
   "source": [
    "#3-15\n",
    "num1,num2=eval(input('Enter two numbers seperated by comma:'))"
   ]
  },
  {
   "cell_type": "code",
   "execution_count": 102,
   "metadata": {},
   "outputs": [
    {
     "name": "stdout",
     "output_type": "stream",
     "text": [
      "Enter three numbwes seperated by commas:34,45,67\n",
      "total=146, and average = 49\n"
     ]
    }
   ],
   "source": [
    "#3-16\n",
    "num1,num2,num3=eval(input('Enter three numbwes seperated by commas:'))\n",
    "total = num1 +num2 +num3\n",
    "average = total /3\n",
    "print('total=%d, and average = %.f'%(total, average))"
   ]
  },
  {
   "cell_type": "code",
   "execution_count": 16,
   "metadata": {},
   "outputs": [
    {
     "name": "stdout",
     "output_type": "stream",
     "text": [
      "Enter the radius:5\n",
      "Area = 78.54\n",
      "Perimeter = 31.42\n"
     ]
    }
   ],
   "source": [
    "#3-17\n",
    "radius = eval(input('Enter the radius:'))\n",
    "area = radius*radius*3.14159             \n",
    "perimeter = 2*3.14159*radius\n",
    "print('Area = %.2f'%(area))\n",
    "print('Perimeter = %.2f'%(perimeter))"
   ]
  },
  {
   "cell_type": "code",
   "execution_count": 15,
   "metadata": {},
   "outputs": [
    {
     "name": "stdout",
     "output_type": "stream",
     "text": [
      "Enter the radius:5\n",
      "Area= 78.54\n"
     ]
    }
   ],
   "source": [
    "#3=17\n",
    "import math\n",
    "radius = eval(input('Enter the radius:'))\n",
    "area = radius*radius*math.pi\n",
    "perimeter = 2*math.pi*radius\n",
    "print('Area= %.2f'%(area))"
   ]
  },
  {
   "cell_type": "code",
   "execution_count": 3,
   "metadata": {},
   "outputs": [
    {
     "name": "stdout",
     "output_type": "stream",
     "text": [
      "100 200\n",
      "100200***Over\n"
     ]
    }
   ],
   "source": [
    "#3-20\n",
    "\n",
    "a = 100\n",
    "b = 200\n",
    "c,d = a,b\n",
    "print(c,d)\n",
    "print(c,end='')\n",
    "print(d,end='***')\n",
    "print('Over')"
   ]
  },
  {
   "cell_type": "code",
   "execution_count": 4,
   "metadata": {},
   "outputs": [
    {
     "name": "stdout",
     "output_type": "stream",
     "text": [
      "100 200\n",
      "100\n",
      "200\n",
      "\n"
     ]
    }
   ],
   "source": [
    "#3-20\n",
    "a = 100\n",
    "b = 200\n",
    "c,d= a,b\n",
    "print(c,d)\n",
    "print(c)\n",
    "print(d)\n",
    "print()"
   ]
  },
  {
   "cell_type": "code",
   "execution_count": 5,
   "metadata": {},
   "outputs": [
    {
     "name": "stdout",
     "output_type": "stream",
     "text": [
      "100 200\n",
      "100$and\n",
      "200***Over\n"
     ]
    }
   ],
   "source": [
    "#3-20\n",
    "a = 100\n",
    "b = 200\n",
    "c,d = a,b\n",
    "print(c,d)\n",
    "print(c,end='$')\n",
    "print('and')\n",
    "print(d,end='***')\n",
    "print('Over')"
   ]
  },
  {
   "cell_type": "code",
   "execution_count": 6,
   "metadata": {},
   "outputs": [
    {
     "name": "stdout",
     "output_type": "stream",
     "text": [
      "300\n",
      "33.333333333333336\n",
      "33\n",
      "1\n",
      "1000000\n",
      "10.0\n"
     ]
    }
   ],
   "source": [
    "#3-21\n",
    "x= 100\n",
    "y= 3\n",
    "print(x*y)\n",
    "print(x/y)\n",
    "print(x//y)\n",
    "print(x%y)\n",
    "print(x**y)\n",
    "print(x**0.5)"
   ]
  },
  {
   "cell_type": "code",
   "execution_count": 9,
   "metadata": {},
   "outputs": [
    {
     "name": "stdout",
     "output_type": "stream",
     "text": [
      "HelloPython\n",
      "300\n"
     ]
    }
   ],
   "source": [
    "#3-21\n",
    "str1='Hello'\n",
    "str2='Python'\n",
    "str3= str1+str2\n",
    "print(str3)\n",
    "a= 100\n",
    "b= 200\n",
    "c= a+b\n",
    "print(c)"
   ]
  },
  {
   "cell_type": "code",
   "execution_count": 10,
   "metadata": {},
   "outputs": [
    {
     "name": "stdout",
     "output_type": "stream",
     "text": [
      "HelloPython,Let's learningPython now\n"
     ]
    }
   ],
   "source": [
    "#3-21\n",
    "str1='Hello'+\\\n",
    "    'Python,Let\\'s learning'\n",
    "str2='Python now'\n",
    "str3=str1+str2\n",
    "print(str3)"
   ]
  },
  {
   "cell_type": "code",
   "execution_count": 12,
   "metadata": {},
   "outputs": [
    {
     "name": "stdout",
     "output_type": "stream",
     "text": [
      "100\n",
      "1\n",
      "33.333333333333336\n"
     ]
    }
   ],
   "source": [
    "a= 100\n",
    "b=3\n",
    "a//b\n",
    "print(a)\n",
    "\n",
    "\n",
    "a=100\n",
    "a%=b\n",
    "print(a)\n",
    "\n",
    "\n",
    "a=100\n",
    "a/=b\n",
    "print(a)"
   ]
  },
  {
   "cell_type": "code",
   "execution_count": 14,
   "metadata": {},
   "outputs": [
    {
     "name": "stdout",
     "output_type": "stream",
     "text": [
      "100 200\n",
      "200 100\n"
     ]
    }
   ],
   "source": [
    "#3-22\n",
    "a=100\n",
    "b=200\n",
    "print(a,b)\n",
    "\n",
    "temp=a\n",
    "a=b\n",
    "b=temp\n",
    "print(a,b)"
   ]
  },
  {
   "cell_type": "markdown",
   "metadata": {},
   "source": [
    "a=eval(input('Enter the integer:'))\n",
    "b=a+100\n",
    "print(a,b)\n",
    "\n",
    "str1=input('Enter a string:')\n",
    "str2=str1+'i8'\n",
    "print(str2)"
   ]
  },
  {
   "cell_type": "code",
   "execution_count": 23,
   "metadata": {},
   "outputs": [
    {
     "name": "stdout",
     "output_type": "stream",
     "text": [
      "HelloPython, Let's learningPython now\n"
     ]
    }
   ],
   "source": [
    "#3-23\n",
    "str1='Hello'+ \\\n",
    "    'Python, Let\\'s learning'\n",
    "str2=\"Python now\"\n",
    "str3=str1+str2\n",
    "print(str3)"
   ]
  },
  {
   "cell_type": "code",
   "execution_count": 24,
   "metadata": {},
   "outputs": [
    {
     "name": "stdout",
     "output_type": "stream",
     "text": [
      "33\n",
      "1\n",
      "33.333333333333336\n"
     ]
    }
   ],
   "source": [
    "a= 100\n",
    "b=3\n",
    "a//=b\n",
    "print(a)\n",
    "\n",
    "a=100\n",
    "a%=b\n",
    "print(a)\n",
    "\n",
    "a=100\n",
    "a/=b\n",
    "print(a)"
   ]
  },
  {
   "cell_type": "code",
   "execution_count": 25,
   "metadata": {},
   "outputs": [
    {
     "name": "stdout",
     "output_type": "stream",
     "text": [
      "100 200\n",
      "200 100\n"
     ]
    }
   ],
   "source": [
    "a=100\n",
    "b=200\n",
    "print(a,b)\n",
    "\n",
    "b,a=a,b\n",
    "print(a,b)"
   ]
  },
  {
   "cell_type": "code",
   "execution_count": 26,
   "metadata": {},
   "outputs": [
    {
     "name": "stdout",
     "output_type": "stream",
     "text": [
      "100 200\n",
      "200 100\n"
     ]
    }
   ],
   "source": [
    "a=100\n",
    "b=200\n",
    "print(a,b)\n",
    "\n",
    "temp=a\n",
    "a=b\n",
    "b=temp\n",
    "print(a,b)"
   ]
  },
  {
   "cell_type": "code",
   "execution_count": 29,
   "metadata": {},
   "outputs": [
    {
     "name": "stdout",
     "output_type": "stream",
     "text": [
      "Enter an integer:5\n",
      "5 105\n",
      "Enter a string:5\n",
      "5i8\n"
     ]
    }
   ],
   "source": [
    "a=int(input('Enter an integer:'))\n",
    "b=a+100\n",
    "print(a,b)\n",
    "\n",
    "str1=input('Enter a string:')\n",
    "str2=str1+'i8'\n",
    "print(str2)"
   ]
  },
  {
   "cell_type": "code",
   "execution_count": 33,
   "metadata": {},
   "outputs": [
    {
     "data": {
      "text/plain": [
       "4"
      ]
     },
     "execution_count": 33,
     "metadata": {},
     "output_type": "execute_result"
    }
   ],
   "source": [
    "round(3.6)"
   ]
  },
  {
   "cell_type": "code",
   "execution_count": 35,
   "metadata": {},
   "outputs": [
    {
     "data": {
      "text/plain": [
       "100"
      ]
     },
     "execution_count": 35,
     "metadata": {},
     "output_type": "execute_result"
    }
   ],
   "source": [
    "#4-3\n",
    "abs(-100)"
   ]
  },
  {
   "cell_type": "code",
   "execution_count": 36,
   "metadata": {},
   "outputs": [
    {
     "data": {
      "text/plain": [
       "201"
      ]
     },
     "execution_count": 36,
     "metadata": {},
     "output_type": "execute_result"
    }
   ],
   "source": [
    "max(100,200,37,46,201)"
   ]
  },
  {
   "cell_type": "code",
   "execution_count": 37,
   "metadata": {},
   "outputs": [
    {
     "data": {
      "text/plain": [
       "21"
      ]
     },
     "execution_count": 37,
     "metadata": {},
     "output_type": "execute_result"
    }
   ],
   "source": [
    "min(21,34,54,768,43)"
   ]
  },
  {
   "cell_type": "code",
   "execution_count": 38,
   "metadata": {},
   "outputs": [
    {
     "data": {
      "text/plain": [
       "16"
      ]
     },
     "execution_count": 38,
     "metadata": {},
     "output_type": "execute_result"
    }
   ],
   "source": [
    "pow(2,4)"
   ]
  },
  {
   "cell_type": "code",
   "execution_count": 39,
   "metadata": {},
   "outputs": [
    {
     "data": {
      "text/plain": [
       "2"
      ]
     },
     "execution_count": 39,
     "metadata": {},
     "output_type": "execute_result"
    }
   ],
   "source": [
    "round(2.3)"
   ]
  },
  {
   "cell_type": "code",
   "execution_count": 40,
   "metadata": {},
   "outputs": [
    {
     "data": {
      "text/plain": [
       "2.35"
      ]
     },
     "execution_count": 40,
     "metadata": {},
     "output_type": "execute_result"
    }
   ],
   "source": [
    "round(2.3456,2)"
   ]
  },
  {
   "cell_type": "code",
   "execution_count": 41,
   "metadata": {},
   "outputs": [
    {
     "data": {
      "text/plain": [
       "2"
      ]
     },
     "execution_count": 41,
     "metadata": {},
     "output_type": "execute_result"
    }
   ],
   "source": [
    "int(2.345)"
   ]
  },
  {
   "cell_type": "code",
   "execution_count": 42,
   "metadata": {},
   "outputs": [
    {
     "data": {
      "text/plain": [
       "5175.29375"
      ]
     },
     "execution_count": 42,
     "metadata": {},
     "output_type": "execute_result"
    }
   ],
   "source": [
    "pow(5.5,5)+pow((9.5-3),2)+100.2"
   ]
  },
  {
   "cell_type": "code",
   "execution_count": 43,
   "metadata": {},
   "outputs": [
    {
     "data": {
      "text/plain": [
       "12.34"
      ]
     },
     "execution_count": 43,
     "metadata": {},
     "output_type": "execute_result"
    }
   ],
   "source": [
    "import math\n",
    "math.fabs(-12.34)"
   ]
  },
  {
   "cell_type": "code",
   "execution_count": 45,
   "metadata": {},
   "outputs": [
    {
     "data": {
      "text/plain": [
       "6"
      ]
     },
     "execution_count": 45,
     "metadata": {},
     "output_type": "execute_result"
    }
   ],
   "source": [
    "import math\n",
    "math.ceil(5.6)"
   ]
  },
  {
   "cell_type": "code",
   "execution_count": 46,
   "metadata": {},
   "outputs": [
    {
     "data": {
      "text/plain": [
       "5"
      ]
     },
     "execution_count": 46,
     "metadata": {},
     "output_type": "execute_result"
    }
   ],
   "source": [
    "import math\n",
    "math.floor(5.6)"
   ]
  },
  {
   "cell_type": "code",
   "execution_count": 47,
   "metadata": {},
   "outputs": [
    {
     "data": {
      "text/plain": [
       "2.718281828459045"
      ]
     },
     "execution_count": 47,
     "metadata": {},
     "output_type": "execute_result"
    }
   ],
   "source": [
    "import math\n",
    "math.exp(1)"
   ]
  },
  {
   "cell_type": "code",
   "execution_count": 48,
   "metadata": {},
   "outputs": [
    {
     "data": {
      "text/plain": [
       "0.999999327347282"
      ]
     },
     "execution_count": 48,
     "metadata": {},
     "output_type": "execute_result"
    }
   ],
   "source": [
    "import math\n",
    "math.log(2.71828)"
   ]
  },
  {
   "cell_type": "code",
   "execution_count": 49,
   "metadata": {},
   "outputs": [
    {
     "name": "stdout",
     "output_type": "stream",
     "text": [
      "1.00\n"
     ]
    }
   ],
   "source": [
    "print('%.2f'%math.log(2.71828))"
   ]
  },
  {
   "cell_type": "code",
   "execution_count": 50,
   "metadata": {},
   "outputs": [
    {
     "data": {
      "text/plain": [
       "1.0"
      ]
     },
     "execution_count": 50,
     "metadata": {},
     "output_type": "execute_result"
    }
   ],
   "source": [
    "math.log(math.e)"
   ]
  },
  {
   "cell_type": "code",
   "execution_count": 51,
   "metadata": {},
   "outputs": [
    {
     "data": {
      "text/plain": [
       "2.9999999999999996"
      ]
     },
     "execution_count": 51,
     "metadata": {},
     "output_type": "execute_result"
    }
   ],
   "source": [
    "math.log(1000,10)"
   ]
  },
  {
   "cell_type": "code",
   "execution_count": 52,
   "metadata": {},
   "outputs": [
    {
     "data": {
      "text/plain": [
       "10.0"
      ]
     },
     "execution_count": 52,
     "metadata": {},
     "output_type": "execute_result"
    }
   ],
   "source": [
    "math.sqrt(100)"
   ]
  },
  {
   "cell_type": "code",
   "execution_count": 53,
   "metadata": {},
   "outputs": [
    {
     "data": {
      "text/plain": [
       "0.0"
      ]
     },
     "execution_count": 53,
     "metadata": {},
     "output_type": "execute_result"
    }
   ],
   "source": [
    "math.sin(0)"
   ]
  },
  {
   "cell_type": "code",
   "execution_count": 54,
   "metadata": {},
   "outputs": [
    {
     "data": {
      "text/plain": [
       "1.0"
      ]
     },
     "execution_count": 54,
     "metadata": {},
     "output_type": "execute_result"
    }
   ],
   "source": [
    "math.sin(1/2*math.pi)"
   ]
  },
  {
   "cell_type": "code",
   "execution_count": 55,
   "metadata": {},
   "outputs": [
    {
     "data": {
      "text/plain": [
       "1.2246467991473532e-16"
      ]
     },
     "execution_count": 55,
     "metadata": {},
     "output_type": "execute_result"
    }
   ],
   "source": [
    "math.sin(math.pi)"
   ]
  },
  {
   "cell_type": "code",
   "execution_count": 56,
   "metadata": {},
   "outputs": [
    {
     "data": {
      "text/plain": [
       "-1.0"
      ]
     },
     "execution_count": 56,
     "metadata": {},
     "output_type": "execute_result"
    }
   ],
   "source": [
    "math.sin(3/2*math.pi)"
   ]
  },
  {
   "cell_type": "code",
   "execution_count": 57,
   "metadata": {},
   "outputs": [
    {
     "data": {
      "text/plain": [
       "-2.4492935982947064e-16"
      ]
     },
     "execution_count": 57,
     "metadata": {},
     "output_type": "execute_result"
    }
   ],
   "source": [
    "math.sin(2*math.pi)"
   ]
  },
  {
   "cell_type": "code",
   "execution_count": 58,
   "metadata": {},
   "outputs": [
    {
     "data": {
      "text/plain": [
       "1.0"
      ]
     },
     "execution_count": 58,
     "metadata": {},
     "output_type": "execute_result"
    }
   ],
   "source": [
    "math.cos(0)"
   ]
  },
  {
   "cell_type": "code",
   "execution_count": 59,
   "metadata": {},
   "outputs": [
    {
     "data": {
      "text/plain": [
       "0.9937122098932426"
      ]
     },
     "execution_count": 59,
     "metadata": {},
     "output_type": "execute_result"
    }
   ],
   "source": [
    "math.cos(1/28*math.pi)"
   ]
  },
  {
   "cell_type": "code",
   "execution_count": 60,
   "metadata": {},
   "outputs": [
    {
     "data": {
      "text/plain": [
       "-1.8369701987210297e-16"
      ]
     },
     "execution_count": 60,
     "metadata": {},
     "output_type": "execute_result"
    }
   ],
   "source": [
    "math.cos(3/2*math.pi)"
   ]
  },
  {
   "cell_type": "code",
   "execution_count": 61,
   "metadata": {},
   "outputs": [
    {
     "data": {
      "text/plain": [
       "1.0"
      ]
     },
     "execution_count": 61,
     "metadata": {},
     "output_type": "execute_result"
    }
   ],
   "source": [
    "math.cos(2*math.pi)"
   ]
  },
  {
   "cell_type": "code",
   "execution_count": 62,
   "metadata": {},
   "outputs": [
    {
     "data": {
      "text/plain": [
       "0.0"
      ]
     },
     "execution_count": 62,
     "metadata": {},
     "output_type": "execute_result"
    }
   ],
   "source": [
    "math.tan(0)"
   ]
  },
  {
   "cell_type": "code",
   "execution_count": 63,
   "metadata": {},
   "outputs": [
    {
     "data": {
      "text/plain": [
       "0.9999999999999997"
      ]
     },
     "execution_count": 63,
     "metadata": {},
     "output_type": "execute_result"
    }
   ],
   "source": [
    "math.tan(5/4*math.pi)"
   ]
  },
  {
   "cell_type": "code",
   "execution_count": 64,
   "metadata": {},
   "outputs": [
    {
     "data": {
      "text/plain": [
       "-0.9999999999999999"
      ]
     },
     "execution_count": 64,
     "metadata": {},
     "output_type": "execute_result"
    }
   ],
   "source": [
    "math.tan(-1/4*math.pi)"
   ]
  },
  {
   "cell_type": "code",
   "execution_count": 65,
   "metadata": {},
   "outputs": [
    {
     "data": {
      "text/plain": [
       "-1.2246467991473532e-16"
      ]
     },
     "execution_count": 65,
     "metadata": {},
     "output_type": "execute_result"
    }
   ],
   "source": [
    "math.tan(math.pi)"
   ]
  },
  {
   "cell_type": "code",
   "execution_count": 66,
   "metadata": {},
   "outputs": [
    {
     "data": {
      "text/plain": [
       "1.5707963267948966"
      ]
     },
     "execution_count": 66,
     "metadata": {},
     "output_type": "execute_result"
    }
   ],
   "source": [
    "math.radians(90)"
   ]
  },
  {
   "cell_type": "code",
   "execution_count": 67,
   "metadata": {},
   "outputs": [
    {
     "data": {
      "text/plain": [
       "3.141592653589793"
      ]
     },
     "execution_count": 67,
     "metadata": {},
     "output_type": "execute_result"
    }
   ],
   "source": [
    "math.radians(180)"
   ]
  },
  {
   "cell_type": "code",
   "execution_count": 68,
   "metadata": {},
   "outputs": [
    {
     "data": {
      "text/plain": [
       "90.0"
      ]
     },
     "execution_count": 68,
     "metadata": {},
     "output_type": "execute_result"
    }
   ],
   "source": [
    "math.degrees(1/2*math.pi)"
   ]
  },
  {
   "cell_type": "code",
   "execution_count": 72,
   "metadata": {},
   "outputs": [
    {
     "name": "stdout",
     "output_type": "stream",
     "text": [
      "Enter the length of side:4\n",
      "27.527638409423474\n"
     ]
    }
   ],
   "source": [
    "#4-10\n",
    "import math\n",
    "side= int(input('Enter the length of side:'))\n",
    "area=(5*side*side)/(4*math.tan(math.pi/5))\n",
    "print(area)"
   ]
  },
  {
   "cell_type": "code",
   "execution_count": 83,
   "metadata": {},
   "outputs": [
    {
     "name": "stdout",
     "output_type": "stream",
     "text": [
      "Enter three numbers:10,20,30\n",
      "variance is 66.67,and standand deviation is 8.16\n"
     ]
    }
   ],
   "source": [
    "#4-11\n",
    "import math\n",
    "n1,n2,n3=eval(input('Enter three numbers:'))\n",
    "mean=(n1+n2+n3)/3\n",
    "variance = (pow((n1-mean),2)+pow((n2-mean),2)+pow((n3-mean),2))/3\n",
    "sd=math.sqrt(variance)\n",
    "print('variance is %.2f,and standand deviation is %.2f'%(variance,sd))"
   ]
  },
  {
   "cell_type": "code",
   "execution_count": 84,
   "metadata": {},
   "outputs": [
    {
     "name": "stdout",
     "output_type": "stream",
     "text": [
      "888\n",
      "100\n",
      "-888\n",
      "100\n",
      "8\n",
      "6\n",
      "123\n",
      "123.46\n"
     ]
    }
   ],
   "source": [
    "#4-14\n",
    "a=-888\n",
    "b=100\n",
    "c=10\n",
    "d=2\n",
    "e=0.5\n",
    "print(abs(a))\n",
    "print(max(a,b,c,d,e))\n",
    "print(min(a,b,c,d,e))\n",
    "print(pow(c,d))\n",
    "print(round(7.5))\n",
    "print(round(6.5))\n",
    "print(int(123.456))\n",
    "print(round(123.456,2))"
   ]
  },
  {
   "cell_type": "code",
   "execution_count": 88,
   "metadata": {},
   "outputs": [
    {
     "name": "stdout",
     "output_type": "stream",
     "text": [
      "123.456\n",
      "9\n",
      "8\n",
      "2.718281828459045\n",
      "4.605170185988092\n",
      "2.0\n",
      "1000.0\n"
     ]
    }
   ],
   "source": [
    "#4-14\n",
    "import math \n",
    "a = math.fabs(-123.456)\n",
    "print(a)\n",
    "\n",
    "b=math.ceil(8.8)\n",
    "print(b)\n",
    "\n",
    "c=math.floor(8.8)\n",
    "print(c)\n",
    "\n",
    "d=math.exp(1)\n",
    "print(d)\n",
    "\n",
    "e=math.log(100)\n",
    "print(e)\n",
    "\n",
    "f=math.log(100,10)\n",
    "print(f)\n",
    "\n",
    "g=math.sqrt(1000000)\n",
    "print(g)"
   ]
  },
  {
   "cell_type": "code",
   "execution_count": 91,
   "metadata": {},
   "outputs": [
    {
     "name": "stdout",
     "output_type": "stream",
     "text": [
      "0.0\n",
      "-2.4492935982947064e-16\n",
      "360.0\n",
      "6.283185307179586\n"
     ]
    }
   ],
   "source": [
    "#4-15\n",
    "m=math.tan(0)\n",
    "print(m)\n",
    "\n",
    "n=math.tan(2*math.pi)\n",
    "print(n)\n",
    "\n",
    "p=math.degrees(2*math.pi)\n",
    "print(p)\n",
    "\n",
    "q=math.radians(360)\n",
    "print(q)"
   ]
  },
  {
   "cell_type": "code",
   "execution_count": 93,
   "metadata": {},
   "outputs": [
    {
     "name": "stdout",
     "output_type": "stream",
     "text": [
      "Apple i8\n",
      "90\n",
      "d\n"
     ]
    }
   ],
   "source": [
    "#4-15\n",
    "x='Apple i'+str(8)\n",
    "print(x)\n",
    "\n",
    "y=ord('Z')\n",
    "print(y)\n",
    "\n",
    "z=chr(100)\n",
    "print(z)"
   ]
  },
  {
   "cell_type": "code",
   "execution_count": 95,
   "metadata": {},
   "outputs": [
    {
     "name": "stdout",
     "output_type": "stream",
     "text": [
      "X=70\n"
     ]
    }
   ],
   "source": [
    "#5-5\n",
    "X=65\n",
    "if X>60:\n",
    "    X=X+5\n",
    "    print('X=%d'%(X))"
   ]
  },
  {
   "cell_type": "code",
   "execution_count": 98,
   "metadata": {},
   "outputs": [
    {
     "name": "stdout",
     "output_type": "stream",
     "text": [
      "Please input numerator:4\n",
      "Please enter denominator:5\n",
      "4 / 5 = 0.8\n",
      "Over\n"
     ]
    }
   ],
   "source": [
    "#5-6\n",
    "numerator=int(input('Please input numerator:'))\n",
    "denominator=int(input('Please enter denominator:'))\n",
    "if denominator !=0:\n",
    "    ans=numerator/denominator\n",
    "print(numerator,\"/\",denominator,\"=\",ans)\n",
    "print('Over')"
   ]
  },
  {
   "cell_type": "code",
   "execution_count": 107,
   "metadata": {},
   "outputs": [
    {
     "name": "stdout",
     "output_type": "stream",
     "text": [
      "Please input a number:25\n",
      "25 is 5's multiple\n",
      "Over\n"
     ]
    }
   ],
   "source": [
    "#5-10\n",
    "number=int(input('Please input a number:'))\n",
    "if number %5==0:\n",
    "    print(number,\"is 5's multiple\")\n",
    "    print(\"Over\")"
   ]
  },
  {
   "cell_type": "code",
   "execution_count": 109,
   "metadata": {},
   "outputs": [
    {
     "name": "stdout",
     "output_type": "stream",
     "text": [
      "Please input numerator:5\n",
      "Please input(denominator:0\n",
      "Denominator is invalid\n",
      "Over\n"
     ]
    }
   ],
   "source": [
    "#5-11\n",
    "numenator = int(input('Please input numerator:'))\n",
    "denominator = int(input('Please input(denominator:'))\n",
    "if denominator !=0:\n",
    "    ans=numenator/denominator\n",
    "    print(numenator,\"/\",denominator,\"=\",ans)\n",
    "else:\n",
    "    print('Denominator is invalid')\n",
    "print('Over')"
   ]
  },
  {
   "cell_type": "code",
   "execution_count": 111,
   "metadata": {},
   "outputs": [
    {
     "name": "stdout",
     "output_type": "stream",
     "text": [
      "Enter your score:67\n",
      "Your score is 77\n"
     ]
    }
   ],
   "source": [
    "#5-36\n",
    "score = int(input('Enter your score:'))\n",
    "if score >=60:\n",
    "    score+=10\n",
    "print('Your score is %d'%(score))"
   ]
  },
  {
   "cell_type": "code",
   "execution_count": 113,
   "metadata": {},
   "outputs": [
    {
     "name": "stdout",
     "output_type": "stream",
     "text": [
      "Enter your score:56\n",
      "Yuor score is 64\n"
     ]
    }
   ],
   "source": [
    "#5-36\n",
    "score =int(input('Enter your score:'))\n",
    "if score >=60:\n",
    "    score+=10\n",
    "else:\n",
    "    score+=8\n",
    "print('Yuor score is %d'%(score))"
   ]
  },
  {
   "cell_type": "code",
   "execution_count": 115,
   "metadata": {},
   "outputs": [
    {
     "name": "stdout",
     "output_type": "stream",
     "text": [
      "Enter temperature today:23\n",
      "Comfotable\n",
      "Over\n"
     ]
    }
   ],
   "source": [
    "#5-36\n",
    "temperature = int(input('Enter temperature today:'))\n",
    "if temperature >=28:\n",
    "    print(\"Hot\")\n",
    "else:\n",
    "    print('Comfotable')\n",
    "print('Over')"
   ]
  },
  {
   "cell_type": "code",
   "execution_count": 118,
   "metadata": {},
   "outputs": [
    {
     "name": "stdout",
     "output_type": "stream",
     "text": [
      "Enter temperature today:23\n",
      "Comfortable\n",
      "Over\n"
     ]
    }
   ],
   "source": [
    "#5-37\n",
    "tmepearature = int(input('Enter temperature today:'))\n",
    "if temperature >=28:\n",
    "    print('Hot')\n",
    "elif temperature >=22:\n",
    "    print('Comfortable')\n",
    "else:\n",
    "    print('Cold')\n",
    "print('Over')"
   ]
  },
  {
   "cell_type": "code",
   "execution_count": 120,
   "metadata": {},
   "outputs": [
    {
     "name": "stdout",
     "output_type": "stream",
     "text": [
      "Enter a character:f\n",
      "f is lowercase character\n"
     ]
    }
   ],
   "source": [
    "#5-37\n",
    "char= input('Enter a character:')\n",
    "if char >= 'a' and char <= 'z':\n",
    "    print('%c is lowercase character'%(char))\n",
    "elif char >='A' and char<='Z':\n",
    "    print('%c is uppercase character'%(char))\n",
    "else:\n",
    "    print('%s is other character'%(char))"
   ]
  },
  {
   "cell_type": "code",
   "execution_count": 121,
   "metadata": {},
   "outputs": [
    {
     "name": "stdout",
     "output_type": "stream",
     "text": [
      "Enter a nunmber:45\n",
      "45is odd number.\n",
      "Test is over\n"
     ]
    }
   ],
   "source": [
    "#5-38\n",
    "num=int(input('Enter a nunmber:'))\n",
    "if num %2==0:\n",
    "    print('%d'%(num),end='')\n",
    "    print('is even number.')\n",
    "else:\n",
    "    print('%d'%(num),end='')\n",
    "    print('is odd number.')\n",
    "print('Test is over')"
   ]
  },
  {
   "cell_type": "code",
   "execution_count": 124,
   "metadata": {},
   "outputs": [
    {
     "name": "stdout",
     "output_type": "stream",
     "text": [
      "Learning Python is fun!\n",
      "Learning Python is fun!\n",
      "Learning Python is fun!\n",
      "Learning Python is fun!\n",
      "Learning Python is fun!\n",
      "Learning Python is fun!\n",
      "Learning Python is fun!\n",
      "Learning Python is fun!\n",
      "Learning Python is fun!\n",
      "Learning Python is fun!\n"
     ]
    }
   ],
   "source": [
    "#6-4\n",
    "count=1\n",
    "while count<=10:\n",
    "    print('Learning Python is fun!')\n",
    "    count=count+1"
   ]
  },
  {
   "cell_type": "code",
   "execution_count": 122,
   "metadata": {},
   "outputs": [
    {
     "name": "stdout",
     "output_type": "stream",
     "text": [
      "1+2+3+...+100= 5050\n"
     ]
    }
   ],
   "source": [
    "#6-6\n",
    "total=0\n",
    "k=1\n",
    "while k<=100:\n",
    "    total =total +k\n",
    "    k=k+1\n",
    "print('1+2+3+...+100=',total)"
   ]
  },
  {
   "cell_type": "code",
   "execution_count": 125,
   "metadata": {},
   "outputs": [
    {
     "name": "stdout",
     "output_type": "stream",
     "text": [
      "1\n",
      "2\n",
      "3\n",
      "4\n",
      "5\n"
     ]
    }
   ],
   "source": [
    "for k in range(1,6):\n",
    "    print(k)"
   ]
  },
  {
   "cell_type": "code",
   "execution_count": 126,
   "metadata": {},
   "outputs": [
    {
     "name": "stdout",
     "output_type": "stream",
     "text": [
      "1\n",
      "3\n",
      "5\n",
      "7\n",
      "9\n"
     ]
    }
   ],
   "source": [
    "for i in range(1,10,2):\n",
    "    print(i)"
   ]
  },
  {
   "cell_type": "code",
   "execution_count": 127,
   "metadata": {},
   "outputs": [
    {
     "name": "stdout",
     "output_type": "stream",
     "text": [
      "10\n",
      "9\n",
      "8\n",
      "7\n",
      "6\n",
      "5\n",
      "4\n",
      "3\n",
      "2\n"
     ]
    }
   ],
   "source": [
    "for i in range(10,1,-1):\n",
    "    print(i)"
   ]
  },
  {
   "cell_type": "code",
   "execution_count": 131,
   "metadata": {},
   "outputs": [
    {
     "name": "stdout",
     "output_type": "stream",
     "text": [
      "1+2+3...+10 45\n"
     ]
    }
   ],
   "source": [
    "total=0\n",
    "for i in range(1,10):\n",
    "    total+=i\n",
    "print('1+2+3...+10',total)"
   ]
  },
  {
   "cell_type": "code",
   "execution_count": 135,
   "metadata": {},
   "outputs": [
    {
     "name": "stdout",
     "output_type": "stream",
     "text": [
      "2+4+...+100 2500\n"
     ]
    }
   ],
   "source": [
    "total = 0\n",
    "for i in range(1,101,2):\n",
    "    total+=i\n",
    "print('2+4+...+100',total)"
   ]
  },
  {
   "cell_type": "code",
   "execution_count": 137,
   "metadata": {},
   "outputs": [
    {
     "name": "stdout",
     "output_type": "stream",
     "text": [
      "The number is 14\n",
      "Total is 105\n"
     ]
    }
   ],
   "source": [
    "total=0\n",
    "number= 0\n",
    "while True:\n",
    "    number +=1\n",
    "    total+=number\n",
    "    if total>=100:\n",
    "        break\n",
    "print('The number is',number)\n",
    "print('Total is',total)"
   ]
  },
  {
   "cell_type": "code",
   "execution_count": 140,
   "metadata": {},
   "outputs": [
    {
     "name": "stdout",
     "output_type": "stream",
     "text": [
      "the total is 4000\n"
     ]
    }
   ],
   "source": [
    "total=0\n",
    "number =1\n",
    "while number<=100:\n",
    "    if number %5==0:\n",
    "        number+=1\n",
    "        continue\n",
    "    total +=number \n",
    "    number +=1\n",
    "print('the total is',total)"
   ]
  },
  {
   "cell_type": "code",
   "execution_count": 143,
   "metadata": {},
   "outputs": [
    {
     "name": "stdout",
     "output_type": "stream",
     "text": [
      "the total is 1050\n"
     ]
    }
   ],
   "source": [
    "total=0\n",
    "number=0\n",
    "while number <=100:\n",
    "    number +=1\n",
    "    if number %5!=0:\n",
    "        continue\n",
    "    total+=number \n",
    "print('the total is',total)"
   ]
  },
  {
   "cell_type": "code",
   "execution_count": 144,
   "metadata": {},
   "outputs": [
    {
     "name": "stdout",
     "output_type": "stream",
     "text": [
      "1+3+5+...+99= 2500\n"
     ]
    }
   ],
   "source": [
    "oddTotal=0\n",
    "k=1\n",
    "while k <=100:\n",
    "    oddTotal=oddTotal +k\n",
    "    k=k+2\n",
    "print('1+3+5+...+99=',oddTotal)"
   ]
  },
  {
   "cell_type": "code",
   "execution_count": 147,
   "metadata": {},
   "outputs": [
    {
     "name": "stdout",
     "output_type": "stream",
     "text": [
      "i= 1\n",
      "j= 1\n",
      "j= 2\n",
      "\n",
      "i= 2\n",
      "j= 1\n",
      "j= 2\n",
      "\n"
     ]
    }
   ],
   "source": [
    "for i in range(1,3):\n",
    "    print('i=',i)\n",
    "    for j in range(1,3):\n",
    "        print('j=',j)\n",
    "    print('')"
   ]
  },
  {
   "cell_type": "code",
   "execution_count": 156,
   "metadata": {},
   "outputs": [
    {
     "name": "stdout",
     "output_type": "stream",
     "text": [
      "1*1= 1 1*2= 2 1*3= 3 1*4= 4 1*5= 5 1*6= 6 1*7= 7 1*8= 8 1*9= 9 \n",
      "2*1= 2 2*2= 4 2*3= 6 2*4= 8 2*5=10 2*6=12 2*7=14 2*8=16 2*9=18 \n",
      "3*1= 3 3*2= 6 3*3= 9 3*4=12 3*5=15 3*6=18 3*7=21 3*8=24 3*9=27 \n",
      "4*1= 4 4*2= 8 4*3=12 4*4=16 4*5=20 4*6=24 4*7=28 4*8=32 4*9=36 \n",
      "5*1= 5 5*2=10 5*3=15 5*4=20 5*5=25 5*6=30 5*7=35 5*8=40 5*9=45 \n",
      "6*1= 6 6*2=12 6*3=18 6*4=24 6*5=30 6*6=36 6*7=42 6*8=48 6*9=54 \n",
      "7*1= 7 7*2=14 7*3=21 7*4=28 7*5=35 7*6=42 7*7=49 7*8=56 7*9=63 \n",
      "8*1= 8 8*2=16 8*3=24 8*4=32 8*5=40 8*6=48 8*7=56 8*8=64 8*9=72 \n",
      "9*1= 9 9*2=18 9*3=27 9*4=36 9*5=45 9*6=54 9*7=63 9*8=72 9*9=81 \n"
     ]
    }
   ],
   "source": [
    "for i in range(1,10):\n",
    "    for j in range(1,10):\n",
    "        print('%d*%d=%2d'%(i,j,i*j),end=' ')\n",
    "    print()"
   ]
  },
  {
   "cell_type": "code",
   "execution_count": 157,
   "metadata": {},
   "outputs": [
    {
     "data": {
      "text/plain": [
       "0.8784395483193969"
      ]
     },
     "execution_count": 157,
     "metadata": {},
     "output_type": "execute_result"
    }
   ],
   "source": [
    "import random\n",
    "random.random()"
   ]
  },
  {
   "cell_type": "code",
   "execution_count": 158,
   "metadata": {},
   "outputs": [
    {
     "data": {
      "text/plain": [
       "18"
      ]
     },
     "execution_count": 158,
     "metadata": {},
     "output_type": "execute_result"
    }
   ],
   "source": [
    "random.randint(1,49)"
   ]
  },
  {
   "cell_type": "code",
   "execution_count": 163,
   "metadata": {},
   "outputs": [
    {
     "name": "stdout",
     "output_type": "stream",
     "text": [
      "3 1 10 3 7 2 8 1 9 6 "
     ]
    }
   ],
   "source": [
    "import random\n",
    "for i in range(1,11):\n",
    "    randomNumber = random.randint(1,10)\n",
    "    print(randomNumber,end=' ')"
   ]
  },
  {
   "cell_type": "code",
   "execution_count": 168,
   "metadata": {},
   "outputs": [
    {
     "name": "stdout",
     "output_type": "stream",
     "text": [
      "54 60 43 75 31 19 25 11 30 83 81 61 30 91 56 26 67 99 11 73 80 6 46 100 48 25 52 68 70 22 1 99 98 38 20 76 32 84 58 93 12 38 51 26 6 33 78 26 80 87 89 48 4 30 22 88 30 36 35 74 78 17 87 54 38 69 49 96 78 73 99 16 36 78 79 91 2 68 55 76 87 30 12 5 36 33 50 56 82 30 53 62 91 66 10 50 95 72 97 37 \n",
      "Even number: 60 \n",
      "Odd number: 40\n"
     ]
    }
   ],
   "source": [
    "import random\n",
    "evenCount=0\n",
    "oddCount=0\n",
    "for i in range(1,101):\n",
    "    randomNumber = random.randint(1,100)\n",
    "    print(randomNumber,end=' ')\n",
    "    if randomNumber %2==0:\n",
    "        evenCount +=1\n",
    "oddCount = 100 - evenCount\n",
    "\n",
    "print('\\nEven number:',evenCount,'\\nOdd number:',oddCount)"
   ]
  },
  {
   "cell_type": "code",
   "execution_count": 169,
   "metadata": {},
   "outputs": [
    {
     "name": "stdout",
     "output_type": "stream",
     "text": [
      "P;ease input an iteger:4\n",
      "4 is not a prime number\n"
     ]
    }
   ],
   "source": [
    "number = int(input('P;ease input an iteger:'))\n",
    "divisor=2\n",
    "flag=1\n",
    "while divisor<number:\n",
    "    flag = 0\n",
    "    break\n",
    "    divisor +=1\n",
    "if flag==0:\n",
    "    print(number,'is not a prime number')\n",
    "else:\n",
    "    print(number, 'is prime number')"
   ]
  },
  {
   "cell_type": "code",
   "execution_count": 176,
   "metadata": {},
   "outputs": [
    {
     "name": "stdout",
     "output_type": "stream",
     "text": [
      "Please input an numerator1:2\n",
      "Please input an denominator1:3\n",
      "Please input an numerator2:4\n",
      "Please input an denominator2:5\n",
      "The GCD for 22 and 15 is 1\n",
      "2/3+45=\n",
      "22/15\n"
     ]
    }
   ],
   "source": [
    "numerator1=int(input('Please input an numerator1:'))\n",
    "denominator1=int(input('Please input an denominator1:'))\n",
    "\n",
    "numerator2=int(input('Please input an numerator2:'))\n",
    "denominator2=int(input('Please input an denominator2:'))\n",
    "\n",
    "number1= numerator1*denominator2+numerator2*denominator1\n",
    "number2= denominator1*denominator2\n",
    "\n",
    "gcd=1\n",
    "k=2\n",
    "while k <= number1 and k<=number2:\n",
    "    if number1%k==0 and number2%k==0:\n",
    "        gcd=k\n",
    "    k+=1\n",
    "print('The GCD for',number1,'and',number2,'is',gcd)\n",
    "print('%d/%d+%d%d='%(numerator1,denominator1,numerator2,denominator2))\n",
    "print('%d/%d'%(number1/gcd,number2/gcd))"
   ]
  },
  {
   "cell_type": "code",
   "execution_count": 178,
   "metadata": {},
   "outputs": [
    {
     "name": "stdout",
     "output_type": "stream",
     "text": [
      "1050\n"
     ]
    }
   ],
   "source": [
    "fiveMulti=0\n",
    "k=5\n",
    "while k <=100:\n",
    "    fiveMulti+=k\n",
    "    k+=5\n",
    "print(fiveMulti)"
   ]
  },
  {
   "cell_type": "code",
   "execution_count": 179,
   "metadata": {},
   "outputs": [
    {
     "name": "stdout",
     "output_type": "stream",
     "text": [
      "0123456789\n",
      "23456789\n",
      "13579\n",
      "9753\n"
     ]
    }
   ],
   "source": [
    "for i in range(10):\n",
    "    print(i,end='')\n",
    "print('')\n",
    "\n",
    "for i in range(2,10):\n",
    "    print(i,end='')\n",
    "print('')\n",
    "\n",
    "for i in range(1,10,2):\n",
    "    print(i,end='')\n",
    "print('')\n",
    "\n",
    "for i in range(9,1,-2):\n",
    "    print(i,end='')\n",
    "print('')"
   ]
  },
  {
   "cell_type": "code",
   "execution_count": 180,
   "metadata": {},
   "outputs": [
    {
     "name": "stdout",
     "output_type": "stream",
     "text": [
      "  0  1  2  3  4  5  6  7  8  9\n",
      "  2  3  4  5  6  7  8  9\n",
      "  1  3  5  7  9\n",
      "  9  7  5  3\n"
     ]
    }
   ],
   "source": [
    "for i in range(10):\n",
    "    print('%3d'%(i),end='')\n",
    "print('')\n",
    "\n",
    "for i in range(2,10):\n",
    "    print('%3d'%(i),end='')\n",
    "print('')\n",
    "\n",
    "for i in range(1,10,2):\n",
    "    print('%3d'%(i),end='')\n",
    "print('')\n",
    "\n",
    "for i in range(9,1,-2):\n",
    "    print('%3d'%(i),end='')\n",
    "print('')"
   ]
  },
  {
   "cell_type": "code",
   "execution_count": 183,
   "metadata": {},
   "outputs": [
    {
     "name": "stdout",
     "output_type": "stream",
     "text": [
      "1+2+3+...+1=1\n",
      "1+2+3+...+2=3\n",
      "1+2+3+...+3=6\n",
      "1+2+3+...+4=10\n",
      "1+2+3+...+5=15\n",
      "1+2+3+...+6=21\n",
      "1+2+3+...+7=28\n",
      "1+2+3+...+8=36\n",
      "1+2+3+...+9=45\n",
      "1+2+3+...+10=55\n",
      "1+2+3+...+11=66\n",
      "1+2+3+...+12=78\n",
      "1+2+3+...+13=91\n",
      "1+2+3+...+14=105\n",
      "1+2+3+...+15=120\n",
      "1+2+3+...+16=136\n",
      "1+2+3+...+17=153\n",
      "1+2+3+...+18=171\n",
      "1+2+3+...+19=190\n",
      "1+2+3+...+20=210\n",
      "1+2+3+...+21=231\n",
      "1+2+3+...+22=253\n",
      "1+2+3+...+23=276\n",
      "1+2+3+...+24=300\n",
      "1+2+3+...+25=325\n",
      "1+2+3+...+26=351\n",
      "1+2+3+...+27=378\n",
      "1+2+3+...+28=406\n",
      "1+2+3+...+29=435\n",
      "1+2+3+...+30=465\n",
      "1+2+3+...+31=496\n",
      "1+2+3+...+32=528\n",
      "1+2+3+...+33=561\n",
      "1+2+3+...+34=595\n",
      "1+2+3+...+35=630\n",
      "1+2+3+...+36=666\n",
      "1+2+3+...+37=703\n",
      "1+2+3+...+38=741\n",
      "1+2+3+...+39=780\n",
      "1+2+3+...+40=820\n",
      "1+2+3+...+41=861\n",
      "1+2+3+...+42=903\n",
      "1+2+3+...+43=946\n",
      "1+2+3+...+44=990\n",
      "1+2+3+...+45=1035\n",
      "1+2+3+...+46=1081\n",
      "1+2+3+...+47=1128\n",
      "1+2+3+...+48=1176\n",
      "1+2+3+...+49=1225\n",
      "1+2+3+...+50=1275\n",
      "1+2+3+...+51=1326\n",
      "1+2+3+...+52=1378\n",
      "1+2+3+...+53=1431\n",
      "1+2+3+...+54=1485\n",
      "1+2+3+...+55=1540\n",
      "1+2+3+...+56=1596\n",
      "1+2+3+...+57=1653\n",
      "1+2+3+...+58=1711\n",
      "1+2+3+...+59=1770\n",
      "1+2+3+...+60=1830\n",
      "1+2+3+...+61=1891\n",
      "1+2+3+...+62=1953\n",
      "1+2+3+...+63=2016\n",
      "1+2+3+...+64=2080\n",
      "1+2+3+...+65=2145\n",
      "1+2+3+...+66=2211\n",
      "1+2+3+...+67=2278\n",
      "1+2+3+...+68=2346\n",
      "1+2+3+...+69=2415\n",
      "1+2+3+...+70=2485\n",
      "1+2+3+...+71=2556\n",
      "1+2+3+...+72=2628\n",
      "1+2+3+...+73=2701\n",
      "1+2+3+...+74=2775\n",
      "1+2+3+...+75=2850\n",
      "1+2+3+...+76=2926\n",
      "1+2+3+...+77=3003\n",
      "1+2+3+...+78=3081\n",
      "1+2+3+...+79=3160\n",
      "1+2+3+...+80=3240\n",
      "1+2+3+...+81=3321\n",
      "1+2+3+...+82=3403\n",
      "1+2+3+...+83=3486\n",
      "1+2+3+...+84=3570\n",
      "1+2+3+...+85=3655\n",
      "1+2+3+...+86=3741\n",
      "1+2+3+...+87=3828\n",
      "1+2+3+...+88=3916\n",
      "1+2+3+...+89=4005\n",
      "1+2+3+...+90=4095\n",
      "1+2+3+...+91=4186\n",
      "1+2+3+...+92=4278\n",
      "1+2+3+...+93=4371\n",
      "1+2+3+...+94=4465\n",
      "1+2+3+...+95=4560\n",
      "1+2+3+...+96=4656\n",
      "1+2+3+...+97=4753\n",
      "1+2+3+...+98=4851\n",
      "1+2+3+...+99=4950\n"
     ]
    }
   ],
   "source": [
    "total=0\n",
    "num=0\n",
    "while True:\n",
    "    num+=1\n",
    "    total+=num\n",
    "    if total>=5050:\n",
    "        break\n",
    "    print('1+2+3+...+%d=%d'%(num,total))"
   ]
  },
  {
   "cell_type": "code",
   "execution_count": 185,
   "metadata": {},
   "outputs": [
    {
     "name": "stdout",
     "output_type": "stream",
     "text": [
      "1+2+3...+99= 2500\n"
     ]
    }
   ],
   "source": [
    "total=0\n",
    "num=1\n",
    "while num<=100:\n",
    "    if num %2==0:\n",
    "        num+=1\n",
    "        continue\n",
    "    total+=num\n",
    "    num+=1\n",
    "print('1+2+3...+99=',total)"
   ]
  },
  {
   "cell_type": "code",
   "execution_count": 186,
   "metadata": {},
   "outputs": [
    {
     "name": "stdout",
     "output_type": "stream",
     "text": [
      "1+3+5+...+99= 50\n"
     ]
    }
   ],
   "source": [
    "total=0\n",
    "for i in range(1,101):\n",
    "    if i %2==1:\n",
    "        total+=1\n",
    "    else:\n",
    "        continue\n",
    "print('1+3+5+...+99=',total)"
   ]
  },
  {
   "cell_type": "code",
   "execution_count": 187,
   "metadata": {},
   "outputs": [
    {
     "name": "stdout",
     "output_type": "stream",
     "text": [
      "**********\n",
      "*********\n",
      "********\n",
      "*******\n",
      "******\n",
      "*****\n",
      "****\n",
      "***\n",
      "**\n",
      "*\n"
     ]
    }
   ],
   "source": [
    "for i in range(10):\n",
    "    for j in range(i,10):\n",
    "        print('*',end='')\n",
    "    print('')"
   ]
  },
  {
   "cell_type": "code",
   "execution_count": 189,
   "metadata": {},
   "outputs": [
    {
     "name": "stdout",
     "output_type": "stream",
     "text": [
      "\n",
      "*\n",
      "**\n",
      "***\n",
      "****\n",
      "*****\n",
      "******\n",
      "*******\n",
      "********\n"
     ]
    }
   ],
   "source": [
    "for i in range(9):\n",
    "    for j in range(i):\n",
    "        print('*',end='')\n",
    "    print('')"
   ]
  },
  {
   "cell_type": "code",
   "execution_count": null,
   "metadata": {},
   "outputs": [],
   "source": []
  }
 ],
 "metadata": {
  "kernelspec": {
   "display_name": "Python 3",
   "language": "python",
   "name": "python3"
  },
  "language_info": {
   "codemirror_mode": {
    "name": "ipython",
    "version": 3
   },
   "file_extension": ".py",
   "mimetype": "text/x-python",
   "name": "python",
   "nbconvert_exporter": "python",
   "pygments_lexer": "ipython3",
   "version": "3.8.3"
  }
 },
 "nbformat": 4,
 "nbformat_minor": 4
}
